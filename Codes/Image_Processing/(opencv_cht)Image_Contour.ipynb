{
  "nbformat": 4,
  "nbformat_minor": 0,
  "metadata": {
    "colab": {
      "name": "(opencv_cht)Image_Contour.ipynb",
      "provenance": [],
      "collapsed_sections": [],
      "toc_visible": true
    },
    "kernelspec": {
      "name": "python3",
      "display_name": "Python 3"
    }
  },
  "cells": [
    {
      "cell_type": "markdown",
      "metadata": {
        "id": "jYgWf1SaVUH5",
        "colab_type": "text"
      },
      "source": [
        "# 載入套件"
      ]
    },
    {
      "cell_type": "code",
      "metadata": {
        "id": "pYT1UWz-VW_B",
        "colab_type": "code",
        "colab": {}
      },
      "source": [
        "!pip install opencv-contrib-python -U"
      ],
      "execution_count": null,
      "outputs": []
    },
    {
      "cell_type": "code",
      "metadata": {
        "id": "y68edxWcVY3T",
        "colab_type": "code",
        "colab": {}
      },
      "source": [
        "from google.colab.patches import cv2_imshow\n",
        "from matplotlib import pyplot as plt\n",
        "import cv2\n",
        "import numpy as np\n",
        "print(cv2.__version__)"
      ],
      "execution_count": null,
      "outputs": []
    },
    {
      "cell_type": "markdown",
      "metadata": {
        "id": "JxUHmYiNfYMH",
        "colab_type": "text"
      },
      "source": [
        "# 繪製輪廓"
      ]
    },
    {
      "cell_type": "code",
      "metadata": {
        "id": "wNDoaKUzfdR_",
        "colab_type": "code",
        "colab": {}
      },
      "source": [
        "o = cv2.imread('contours.bmp')  \n",
        "cv2_imshow(o)\n",
        "gray = cv2.cvtColor(o,cv2.COLOR_BGR2GRAY)  \n",
        "ret, binary = cv2.threshold(gray,127,255,cv2.THRESH_BINARY)  \n",
        "contours, hierarchy = cv2.findContours(binary,cv2.RETR_EXTERNAL,cv2.CHAIN_APPROX_SIMPLE)  \n",
        "o=cv2.drawContours(o,contours,-1,(0,0,255),5) \n",
        "cv2_imshow(o) \n"
      ],
      "execution_count": null,
      "outputs": []
    },
    {
      "cell_type": "markdown",
      "metadata": {
        "id": "h8YhE9iygkLq",
        "colab_type": "text"
      },
      "source": [
        "# 逐一顯示影像的邊緣資訊"
      ]
    },
    {
      "cell_type": "code",
      "metadata": {
        "id": "d2wk7gI8gnJG",
        "colab_type": "code",
        "colab": {}
      },
      "source": [
        "o = cv2.imread('contours.bmp')  \n",
        "cv2_imshow(o)\n",
        "gray = cv2.cvtColor(o,cv2.COLOR_BGR2GRAY)  \n",
        "ret, binary = cv2.threshold(gray,127,255,cv2.THRESH_BINARY)  \n",
        "contours, hierarchy = cv2.findContours(binary,cv2.RETR_EXTERNAL,cv2.CHAIN_APPROX_SIMPLE)  \n",
        "n=len(contours)\n",
        "contoursImg=[]\n",
        "for i in range(n):\n",
        "    temp=np.zeros(o.shape,np.uint8)\n",
        "    contoursImg.append(temp)\n",
        "    contoursImg[i]=cv2.drawContours(\n",
        "            contoursImg[i],contours,i,(255,255,255),5) \n",
        "    cv2_imshow(contoursImg[i])    \n"
      ],
      "execution_count": null,
      "outputs": []
    },
    {
      "cell_type": "markdown",
      "metadata": {
        "id": "6xhN7fNQg8pW",
        "colab_type": "text"
      },
      "source": [
        "# 顯示彩色影像的輪廓"
      ]
    },
    {
      "cell_type": "code",
      "metadata": {
        "id": "OI7jP3FChCKe",
        "colab_type": "code",
        "colab": {}
      },
      "source": [
        "o = cv2.imread('loc3.jpg')\n",
        "cv2_imshow(o)  \n",
        "gray = cv2.cvtColor(o,cv2.COLOR_BGR2GRAY)  \n",
        "ret, binary = cv2.threshold(gray,127,255,cv2.THRESH_BINARY)  \n",
        "contours, hierarchy = cv2.findContours(binary,cv2.RETR_LIST,cv2.CHAIN_APPROX_SIMPLE)  \n",
        "mask=np.zeros(o.shape,np.uint8)\n",
        "mask=cv2.drawContours(mask,contours,-1,(255,255,255),-1) \n",
        "cv2_imshow(mask)\n",
        "loc=cv2.bitwise_and(o,mask)    \n",
        "cv2_imshow(loc)\n"
      ],
      "execution_count": null,
      "outputs": []
    },
    {
      "cell_type": "markdown",
      "metadata": {
        "id": "ZRTPjXSTtg_l",
        "colab_type": "text"
      },
      "source": [
        "# 計算輪廓的矩(moments)"
      ]
    },
    {
      "cell_type": "code",
      "metadata": {
        "id": "30KDuKDwtk04",
        "colab_type": "code",
        "colab": {}
      },
      "source": [
        "o = cv2.imread('moments.bmp')  \n",
        "cv2_imshow(o)\n",
        "gray = cv2.cvtColor(o,cv2.COLOR_BGR2GRAY)  \n",
        "ret, binary = cv2.threshold(gray,127,255,cv2.THRESH_BINARY)  \n",
        "contours, hierarchy = cv2.findContours(binary,cv2.RETR_LIST,cv2.CHAIN_APPROX_SIMPLE)  \n",
        "n=len(contours)\n",
        "contoursImg=[]\n",
        "for i in range(n):\n",
        "    temp=np.zeros(o.shape,np.uint8)\n",
        "    contoursImg.append(temp)\n",
        "    contoursImg[i]=cv2.drawContours(contoursImg[i],contours,i,255,3) \n",
        "    cv2_imshow(contoursImg[i]) \n",
        "print(\"觀察各個輪廓的矩（moments）:\")\n",
        "for i in range(n):\n",
        "    print(\"輪廓\"+str(i)+\"的矩:\\n\",cv2.moments(contours[i]))\n",
        "print(\"觀察各個輪廓的面積:\")\n",
        "for i in range(n):\n",
        "    print(\"輪廓\"+str(i)+\"的面積:%d\" %cv2.moments(contours[i])['m00'])\n"
      ],
      "execution_count": null,
      "outputs": []
    },
    {
      "cell_type": "markdown",
      "metadata": {
        "id": "0eIdKNWVvRFM",
        "colab_type": "text"
      },
      "source": [
        "# 計算面積"
      ]
    },
    {
      "cell_type": "code",
      "metadata": {
        "id": "j32oJt2SvSzx",
        "colab_type": "code",
        "colab": {}
      },
      "source": [
        "o = cv2.imread('contours.bmp')  \n",
        "gray = cv2.cvtColor(o,cv2.COLOR_BGR2GRAY)  \n",
        "ret, binary = cv2.threshold(gray,127,255,cv2.THRESH_BINARY)  \n",
        "contours, hierarchy = cv2.findContours(binary,cv2.RETR_LIST,cv2.CHAIN_APPROX_SIMPLE)  \n",
        "cv2_imshow(o)\n",
        "n=len(contours)\n",
        "contoursImg=[]\n",
        "for i in range(n):\n",
        "    print(\"contours[\"+str(i)+\"]面積=\",cv2.contourArea(contours[i]))\n",
        "    temp=np.zeros(o.shape,np.uint8)\n",
        "    contoursImg.append(temp)\n",
        "    contoursImg[i]=cv2.drawContours(contoursImg[i],contours,i,(255,255,255),3)\n",
        "    cv2_imshow(contoursImg[i])"
      ],
      "execution_count": null,
      "outputs": []
    },
    {
      "cell_type": "markdown",
      "metadata": {
        "id": "pi4p5y-jvxI2",
        "colab_type": "text"
      },
      "source": [
        "# 計算長度"
      ]
    },
    {
      "cell_type": "code",
      "metadata": {
        "id": "zunUt3NmvygJ",
        "colab_type": "code",
        "colab": {}
      },
      "source": [
        "o = cv2.imread('contours0.bmp')  \n",
        "cv2_imshow(o)\n",
        "#--------------取得輪廓--------------------\n",
        "gray = cv2.cvtColor(o,cv2.COLOR_BGR2GRAY)  \n",
        "ret, binary = cv2.threshold(gray,127,255,cv2.THRESH_BINARY)  \n",
        "contours, hierarchy = cv2.findContours(binary,cv2.RETR_LIST,cv2.CHAIN_APPROX_SIMPLE)  \n",
        "#--------------計算各輪廓的長度之和、平均長度--------------------\n",
        "n=len(contours)   # 取得輪廓的個數\n",
        "cntLen=[]          # 儲存各輪廓的長度\n",
        "for i in range(n):\n",
        "    cntLen.append(cv2.arcLength(contours[i],True))\n",
        "    print(\"第\"+str(i)+\"個輪廓的長度:%d\"%cntLen[i])\n",
        "cntLenSum=np.sum(cntLen)  # 各輪廓的長度之和\n",
        "cntLenAvr=cntLenSum/n      # 輪廓長度的平均值\n",
        "print(\"輪廓的總長度為：%d\"%cntLenSum)\n",
        "print(\"輪廓的平均長度為：%d\"%cntLenAvr)\n",
        "#--------------顯示長度超過平均值的輪廓--------------------\n",
        "contoursImg=[]\n",
        "for i in range(n):\n",
        "    temp=np.zeros(o.shape,np.uint8)\n",
        "    contoursImg.append(temp)\n",
        "    contoursImg[i]=cv2.drawContours(contoursImg[i],\n",
        "               contours,i,(255,255,255),3)\n",
        "    if cv2.arcLength(contours[i],True)>cntLenAvr:\n",
        "        cv2_imshow(contoursImg[i])"
      ],
      "execution_count": null,
      "outputs": []
    },
    {
      "cell_type": "markdown",
      "metadata": {
        "id": "Q-WxQntFx3EL",
        "colab_type": "text"
      },
      "source": [
        "# 影像相似度比對"
      ]
    },
    {
      "cell_type": "code",
      "metadata": {
        "id": "wrTjZADpx5O_",
        "colab_type": "code",
        "colab": {}
      },
      "source": [
        "o1 = cv2.imread('cs1.bmp')\n",
        "o2 = cv2.imread('cs2.bmp')\n",
        "o3 = cv2.imread('cc.bmp')  \n",
        "cv2_imshow(o1)\n",
        "cv2_imshow(o2)\n",
        "cv2_imshow(o3)\n",
        "gray1 = cv2.cvtColor(o1,cv2.COLOR_BGR2GRAY) \n",
        "gray2 = cv2.cvtColor(o2,cv2.COLOR_BGR2GRAY) \n",
        "gray3 = cv2.cvtColor(o3,cv2.COLOR_BGR2GRAY) \n",
        "ret, binary1 = cv2.threshold(gray1,127,255,cv2.THRESH_BINARY) \n",
        "ret, binary2 = cv2.threshold(gray2,127,255,cv2.THRESH_BINARY) \n",
        "ret, binary3 = cv2.threshold(gray3,127,255,cv2.THRESH_BINARY) \n",
        "contours1, hierarchy = cv2.findContours(binary1,\n",
        "                                              cv2.RETR_LIST,\n",
        "                                              cv2.CHAIN_APPROX_SIMPLE)  \n",
        "contours2, hierarchy = cv2.findContours(binary2,\n",
        "                                              cv2.RETR_LIST,\n",
        "                                              cv2.CHAIN_APPROX_SIMPLE)  \n",
        "contours3, hierarchy = cv2.findContours(binary3,\n",
        "                                              cv2.RETR_LIST,\n",
        "                                              cv2.CHAIN_APPROX_SIMPLE)  \n",
        "cnt1 = contours1[0]\n",
        "cnt2 = contours2[0]\n",
        "cnt3 = contours3[0]\n",
        "ret0 = cv2.matchShapes(cnt1,cnt1,1,0.0)\n",
        "ret1 = cv2.matchShapes(cnt1,cnt2,1,0.0)\n",
        "ret2 = cv2.matchShapes(cnt1,cnt3,1,0.0)\n",
        "print(\"相同影像的matchShape=\",ret0)\n",
        "print(\"相似影像的matchShape=\",ret1)\n",
        "print(\"不相似影像的matchShape=\",ret2)\n"
      ],
      "execution_count": null,
      "outputs": []
    },
    {
      "cell_type": "markdown",
      "metadata": {
        "id": "J8mHhRbiyjIj",
        "colab_type": "text"
      },
      "source": [
        "# 矩形包圍框"
      ]
    },
    {
      "cell_type": "code",
      "metadata": {
        "id": "Bz9q8LkTymlb",
        "colab_type": "code",
        "colab": {}
      },
      "source": [
        "#---------------讀取並顯示原始影像------------------ \n",
        "o = cv2.imread('cc.bmp')  \n",
        "#---------------分析影像輪廓------------------ \n",
        "gray = cv2.cvtColor(o,cv2.COLOR_BGR2GRAY)  \n",
        "ret, binary = cv2.threshold(gray,127,255,cv2.THRESH_BINARY)  \n",
        "contours, hierarchy = cv2.findContours(binary,\n",
        "                                             cv2.RETR_LIST,\n",
        "                                             cv2.CHAIN_APPROX_SIMPLE) \n",
        "#---------------傳回頂點及邊長------------------ \n",
        "x,y,w,h = cv2.boundingRect(contours[0])\n",
        "print(\"頂點及長寬的點形式:\")\n",
        "print(\"x=\",x)\n",
        "print(\"y=\",y)\n",
        "print(\"w=\",w)\n",
        "print(\"h=\",h)\n",
        "#---------------僅有一個傳回值的情況------------------\n",
        "rect = cv2.boundingRect(contours[0])\n",
        "print(\"\\n頂點及長寬的元組（tuple）形式：\")\n",
        "print(\"rect=\",rect)\n"
      ],
      "execution_count": null,
      "outputs": []
    },
    {
      "cell_type": "markdown",
      "metadata": {
        "id": "z3TP0MUeyt5y",
        "colab_type": "text"
      },
      "source": [
        "# 畫出矩形包圍框"
      ]
    },
    {
      "cell_type": "code",
      "metadata": {
        "id": "qPXGsFljyv0Y",
        "colab_type": "code",
        "colab": {}
      },
      "source": [
        "o = cv2.imread('cc.bmp')  \n",
        "cv2_imshow(o)\n",
        "#---------------分析影像輪廓------------------ \n",
        "gray = cv2.cvtColor(o,cv2.COLOR_BGR2GRAY)  \n",
        "ret, binary = cv2.threshold(gray,127,255,cv2.THRESH_BINARY)  \n",
        "contours, hierarchy = cv2.findContours(binary,\n",
        "                                             cv2.RETR_LIST,\n",
        "                                             cv2.CHAIN_APPROX_SIMPLE) \n",
        "#---------------建置矩形邊界------------------ \n",
        "x,y,w,h = cv2.boundingRect(contours[0])\n",
        "brcnt = np.array([[[x, y]], [[x+w, y]], [[x+w, y+h]], [[x, y+h]]])\n",
        "cv2.drawContours(o, [brcnt], -1, (255, 255,255), 2)\n",
        "#---------------顯示矩形邊界------------------\n",
        "cv2_imshow(o)\n"
      ],
      "execution_count": null,
      "outputs": []
    },
    {
      "cell_type": "markdown",
      "metadata": {
        "id": "adPfgAQfzKLN",
        "colab_type": "text"
      },
      "source": [
        "# 最小包圍矩形框"
      ]
    },
    {
      "cell_type": "code",
      "metadata": {
        "id": "DgcepQlRzLVu",
        "colab_type": "code",
        "colab": {}
      },
      "source": [
        "o = cv2.imread('cc.bmp')  \n",
        "cv2_imshow(o)\n",
        "gray = cv2.cvtColor(o,cv2.COLOR_BGR2GRAY)  \n",
        "ret, binary = cv2.threshold(gray,127,255,cv2.THRESH_BINARY)  \n",
        "contours, hierarchy = cv2.findContours(binary,\n",
        "                                             cv2.RETR_LIST,\n",
        "                                             cv2.CHAIN_APPROX_SIMPLE)  \n",
        "rect = cv2.minAreaRect(contours[0])\n",
        "print(\"傳回值rect:\\n\",rect)\n",
        "points = cv2.boxPoints(rect)\n",
        "print(\"\\n轉換後的points：\\n\",points)\n",
        "points = np.int0(points)  #取整數\n",
        "image=cv2.drawContours(o,[points],0,(255,255,255),2)\n",
        "cv2_imshow(o)\n"
      ],
      "execution_count": null,
      "outputs": []
    },
    {
      "cell_type": "markdown",
      "metadata": {
        "id": "2nvbFsUiza9t",
        "colab_type": "text"
      },
      "source": [
        "# 最小包圍圓形"
      ]
    },
    {
      "cell_type": "code",
      "metadata": {
        "id": "aj7ebgltzcFW",
        "colab_type": "code",
        "colab": {}
      },
      "source": [
        "o = cv2.imread('cc.bmp')  \n",
        "cv2_imshow(o)\n",
        "gray = cv2.cvtColor(o,cv2.COLOR_BGR2GRAY)  \n",
        "ret, binary = cv2.threshold(gray,127,255,cv2.THRESH_BINARY)  \n",
        "contours, hierarchy = cv2.findContours(binary,\n",
        "                                             cv2.RETR_LIST,\n",
        "                                             cv2.CHAIN_APPROX_SIMPLE)  \n",
        "(x,y),radius = cv2.minEnclosingCircle(contours[0])\n",
        "center = (int(x),int(y))\n",
        "radius = int(radius)\n",
        "cv2.circle(o,center,radius,(255,255,255),2)\n",
        "cv2_imshow(o)\n"
      ],
      "execution_count": null,
      "outputs": []
    },
    {
      "cell_type": "markdown",
      "metadata": {
        "id": "AEsdZuJ6zmbj",
        "colab_type": "text"
      },
      "source": [
        "# 最佳擬合橢圓"
      ]
    },
    {
      "cell_type": "code",
      "metadata": {
        "id": "T-FpZl5bznZi",
        "colab_type": "code",
        "colab": {}
      },
      "source": [
        "o = cv2.imread('cc.bmp')\n",
        "gray = cv2.cvtColor(o,cv2.COLOR_BGR2GRAY)  \n",
        "ret, binary = cv2.threshold(gray,127,255,cv2.THRESH_BINARY)  \n",
        "contours, hierarchy = cv2.findContours(binary,\n",
        "                                             cv2.RETR_LIST,\n",
        "                                             cv2.CHAIN_APPROX_SIMPLE)  \n",
        "cv2_imshow(o)\n",
        "ellipse = cv2.fitEllipse(contours[0])\n",
        "print(\"ellipse=\",ellipse)\n",
        "cv2.ellipse(o,ellipse,(0,255,0),3)\n",
        "cv2_imshow(o)\n"
      ],
      "execution_count": null,
      "outputs": []
    },
    {
      "cell_type": "markdown",
      "metadata": {
        "id": "6wn9YBqGz2c6",
        "colab_type": "text"
      },
      "source": [
        "# 最佳擬合直線"
      ]
    },
    {
      "cell_type": "code",
      "metadata": {
        "id": "o59_sKckz3jG",
        "colab_type": "code",
        "colab": {}
      },
      "source": [
        "o = cv2.imread('cc.bmp') \n",
        "cv2_imshow(o) \n",
        "gray = cv2.cvtColor(o,cv2.COLOR_BGR2GRAY)  \n",
        "ret, binary = cv2.threshold(gray,127,255,cv2.THRESH_BINARY)  \n",
        "contours, hierarchy = cv2.findContours(binary,\n",
        "                                             cv2.RETR_LIST,\n",
        "                                             cv2.CHAIN_APPROX_SIMPLE)  \n",
        "rows,cols = image.shape[:2]\n",
        "[vx,vy,x,y] = cv2.fitLine(contours[0], cv2.DIST_L2,0,0.01,0.01)\n",
        "lefty = int((-x*vy/vx) + y)\n",
        "righty = int(((cols-x)*vy/vx)+y)\n",
        "cv2.line(o,(cols-1,righty),(0,lefty),(0,255,0),2)\n",
        "cv2_imshow(o)\n"
      ],
      "execution_count": null,
      "outputs": []
    },
    {
      "cell_type": "markdown",
      "metadata": {
        "id": "LwAmPsYx0N9T",
        "colab_type": "text"
      },
      "source": [
        "# 最小外包三角形"
      ]
    },
    {
      "cell_type": "code",
      "metadata": {
        "id": "u9MrK2v90NYw",
        "colab_type": "code",
        "colab": {}
      },
      "source": [
        "o = cv2.imread('cc.bmp')  \n",
        "cv2_imshow(o)\n",
        "gray = cv2.cvtColor(o,cv2.COLOR_BGR2GRAY)  \n",
        "ret, binary = cv2.threshold(gray,127,255,cv2.THRESH_BINARY)  \n",
        "contours, hierarchy = cv2.findContours(binary,\n",
        "                                             cv2.RETR_LIST,\n",
        "                                             cv2.CHAIN_APPROX_SIMPLE)  \n",
        "area,trgl = cv2.minEnclosingTriangle(contours[0])\n",
        "print(\"area=\",area)\n",
        "print(\"trgl:\",trgl)\n",
        "for i in range(0, 3):\n",
        "    cv2.line(o, tuple(trgl[i][0]), \n",
        "             tuple(trgl[(i + 1) % 3][0]), (255,255,255), 2) \n",
        "cv2_imshow(o)\n"
      ],
      "execution_count": null,
      "outputs": []
    },
    {
      "cell_type": "markdown",
      "metadata": {
        "id": "vf3vOR630beC",
        "colab_type": "text"
      },
      "source": [
        "# 逼近多邊形"
      ]
    },
    {
      "cell_type": "code",
      "metadata": {
        "id": "T3sjNr6i0cks",
        "colab_type": "code",
        "colab": {}
      },
      "source": [
        "#----------------讀取並顯示原始影像-------------------------------\n",
        "o = cv2.imread('hand.bmp') \n",
        "cv2_imshow(o) \n",
        "#----------------取得輪廓-------------------------------\n",
        "gray = cv2.cvtColor(o,cv2.COLOR_BGR2GRAY)  \n",
        "ret, binary = cv2.threshold(gray,127,255,cv2.THRESH_BINARY)  \n",
        "contours, hierarchy = cv2.findContours(binary,\n",
        "                                             cv2.RETR_LIST,\n",
        "                                             cv2.CHAIN_APPROX_SIMPLE)  \n",
        "#----------------epsilon=0.1*周長-------------------------------\n",
        "adp = o.copy()\n",
        "epsilon = 0.1*cv2.arcLength(contours[0],True)\n",
        "approx = cv2.approxPolyDP(contours[0],epsilon,True)\n",
        "adp=cv2.drawContours(adp,[approx],0,(0,0,255),2)\n",
        "cv2_imshow(adp)\n",
        "#----------------epsilon=0.09*周長-------------------------------\n",
        "adp = o.copy()\n",
        "epsilon = 0.09*cv2.arcLength(contours[0],True)\n",
        "approx = cv2.approxPolyDP(contours[0],epsilon,True)\n",
        "adp=cv2.drawContours(adp,[approx],0,(0,0,255),2)\n",
        "cv2_imshow(adp)\n",
        "#----------------epsilon=0.055*周長-------------------------------\n",
        "adp = o.copy()\n",
        "epsilon = 0.055*cv2.arcLength(contours[0],True)\n",
        "approx = cv2.approxPolyDP(contours[0],epsilon,True)\n",
        "adp=cv2.drawContours(adp,[approx],0,(0,0,255),2)\n",
        "cv2_imshow(adp)\n",
        "#----------------epsilon=0.05*周長-------------------------------\n",
        "adp = o.copy()\n",
        "epsilon = 0.05*cv2.arcLength(contours[0],True)\n",
        "approx = cv2.approxPolyDP(contours[0],epsilon,True)\n",
        "adp=cv2.drawContours(adp,[approx],0,(0,0,255),2)\n",
        "cv2_imshow(adp)\n",
        "#----------------epsilon=0.02*周長-------------------------------\n",
        "adp = o.copy()\n",
        "epsilon = 0.02*cv2.arcLength(contours[0],True)\n",
        "approx = cv2.approxPolyDP(contours[0],epsilon,True)\n",
        "adp=cv2.drawContours(adp,[approx],0,(0,0,255),2)\n",
        "cv2_imshow(adp)\n"
      ],
      "execution_count": null,
      "outputs": []
    },
    {
      "cell_type": "markdown",
      "metadata": {
        "id": "IoVDGN-C3EJv",
        "colab_type": "text"
      },
      "source": [
        "# Convex/Hull"
      ]
    },
    {
      "cell_type": "code",
      "metadata": {
        "id": "DRSykw5Z3Ft2",
        "colab_type": "code",
        "colab": {}
      },
      "source": [
        "# --------------讀取並繪製原始影像------------------\n",
        "o = cv2.imread('hand.bmp')  \n",
        "cv2_imshow(o)\n",
        "# --------------分析輪廓------------------\n",
        "gray = cv2.cvtColor(o,cv2.COLOR_BGR2GRAY)  \n",
        "ret, binary = cv2.threshold(gray,127,255,cv2.THRESH_BINARY)  \n",
        "contours, hierarchy = cv2.findContours(binary,\n",
        "                                             cv2.RETR_LIST,\n",
        "                                             cv2.CHAIN_APPROX_SIMPLE)  \n",
        "# --------------尋找Convex|Hull，獲得凸套件的角點------------------\n",
        "hull = cv2.convexHull(contours[0])\n",
        "# --------------繪製Convex|Hull------------------\n",
        "cv2.polylines(o, [hull], True, (0, 255, 0), 2)\n",
        "# --------------顯示Convex|Hull------------------\n",
        "cv2_imshow(o)\n"
      ],
      "execution_count": null,
      "outputs": []
    },
    {
      "cell_type": "markdown",
      "metadata": {
        "id": "Q_c9eunv3o5_",
        "colab_type": "text"
      },
      "source": [
        "# 凸缺陷\n"
      ]
    },
    {
      "cell_type": "code",
      "metadata": {
        "id": "LiHWztrk3rCI",
        "colab_type": "code",
        "colab": {}
      },
      "source": [
        "#----------------原圖--------------------------\n",
        "img = cv2.imread('hand.bmp')\n",
        "cv2_imshow(img)\n",
        "#----------------建置輪廓--------------------------\n",
        "gray = cv2.cvtColor(img,cv2.COLOR_BGR2GRAY)\n",
        "ret, binary = cv2.threshold(gray, 127, 255,0)\n",
        "contours, hierarchy = cv2.findContours(binary,\n",
        "                                             cv2.RETR_TREE,\n",
        "                                             cv2.CHAIN_APPROX_SIMPLE)  \n",
        "#----------------Convex|Hull--------------------------\n",
        "cnt = contours[0]\n",
        "hull = cv2.convexHull(cnt,returnPoints = False)\n",
        "defects = cv2.convexityDefects(cnt,hull)\n",
        "print(\"defects=\\n\",defects)\n",
        "#----------------建置凸缺陷--------------------------\n",
        "for i in range(defects.shape[0]):\n",
        "    s,e,f,d = defects[i,0]\n",
        "    start = tuple(cnt[s][0])\n",
        "    end = tuple(cnt[e][0])\n",
        "    far = tuple(cnt[f][0])\n",
        "    cv2.line(img,start,end,[0,0,255],2)\n",
        "    cv2.circle(img,far,5,[255,0,0],-1)\n",
        "#----------------顯示結果，釋放影像--------------------------\n",
        "cv2_imshow(img)\n"
      ],
      "execution_count": null,
      "outputs": []
    },
    {
      "cell_type": "markdown",
      "metadata": {
        "id": "MSTj-n4wcFXi",
        "colab_type": "text"
      },
      "source": [
        "# 檢查輪廓是否為凸的"
      ]
    },
    {
      "cell_type": "code",
      "metadata": {
        "id": "975uJl9XcH9i",
        "colab_type": "code",
        "colab": {}
      },
      "source": [
        "o = cv2.imread('hand.bmp')  \n",
        "cv2_imshow(o)\n",
        "gray = cv2.cvtColor(o,cv2.COLOR_BGR2GRAY)  \n",
        "ret, binary = cv2.threshold(gray,127,255,cv2.THRESH_BINARY)  \n",
        "contours, hierarchy = cv2.findContours(binary,\n",
        "                                             cv2.RETR_LIST,\n",
        "                                             cv2.CHAIN_APPROX_SIMPLE)  \n",
        "#--------------Convex|Hull----------------------\n",
        "image1=o.copy()\n",
        "hull = cv2.convexHull(contours[0])\n",
        "cv2.polylines(image1, [hull], True, (0, 255, 0), 2)\n",
        "print(\"使用函數cv2.convexHull()建置的多邊形是否是凸形的：\",\n",
        "      cv2.isContourConvex(hull))\n",
        "cv2_imshow(image1)\n",
        "#------------逼近多邊形--------------------\n",
        "image2=o.copy()\n",
        "epsilon = 0.01*cv2.arcLength(contours[0],True)\n",
        "approx = cv2.approxPolyDP(contours[0],epsilon,True)\n",
        "image2=cv2.drawContours(image2,[approx],0,(0,0,255),2)\n",
        "print(\"使用函數cv2.approxPolyDP()建置的多邊形是否是凸形的：\",\n",
        "      cv2.isContourConvex(approx))\n",
        "cv2_imshow(image2)\n"
      ],
      "execution_count": null,
      "outputs": []
    },
    {
      "cell_type": "markdown",
      "metadata": {
        "id": "av7ueCT8dUUm",
        "colab_type": "text"
      },
      "source": [
        "# 點到輪廓的距離"
      ]
    },
    {
      "cell_type": "code",
      "metadata": {
        "id": "vnAMZi6rdWuU",
        "colab_type": "code",
        "colab": {}
      },
      "source": [
        "#----------------原始影像-------------------------\n",
        "o = cv2.imread('cs.bmp')\n",
        "cv2_imshow(o)\n",
        "#----------------取得Convex|Hull------------------------  \n",
        "gray = cv2.cvtColor(o,cv2.COLOR_BGR2GRAY)  \n",
        "ret, binary = cv2.threshold(gray,127,255,cv2.THRESH_BINARY)  \n",
        "contours, hierarchy = cv2.findContours(binary,\n",
        "                                             cv2.RETR_LIST,\n",
        "                                             cv2.CHAIN_APPROX_SIMPLE)  \n",
        "hull = cv2.convexHull(contours[0])\n",
        "image = cv2.cvtColor(binary, cv2.COLOR_GRAY2BGR)\n",
        "cv2.polylines(o, [hull], True, (0, 255, 0), 2)\n",
        "#----------------內部點A到輪廓的距離-------------------------\n",
        "distA = cv2.pointPolygonTest(hull, (300, 150), True)  \n",
        "font=cv2.FONT_HERSHEY_SIMPLEX\n",
        "cv2.putText(o,'A',(300,150), font, 1,(0,255,0),3)\n",
        "print(\"distA=\",distA) \n",
        "#----------------外部點B到輪廓的距離-------------------------\n",
        "distB = cv2.pointPolygonTest(hull, (300, 250), True)  \n",
        "font=cv2.FONT_HERSHEY_SIMPLEX\n",
        "cv2.putText(o,'B',(300,250), font, 1,(0,255,0),3)\n",
        "print(\"distB=\",distB) \n",
        "#------------正好處於輪廓上的點C到輪廓的距離-----------------\n",
        "distC = cv2.pointPolygonTest(hull, (423, 112), True)  \n",
        "font=cv2.FONT_HERSHEY_SIMPLEX\n",
        "cv2.putText(o,'C',(423,112), font, 1,(0,255,0),3)\n",
        "print(\"distC=\",distC) \n",
        "#print(hull)   #測試邊緣到底在哪裡，然後再使用確定位置的點繪製文字\n",
        "#----------------顯示-------------------------\n",
        "cv2_imshow(o)\n"
      ],
      "execution_count": null,
      "outputs": []
    },
    {
      "cell_type": "markdown",
      "metadata": {
        "id": "s383BsbSeLlL",
        "colab_type": "text"
      },
      "source": [
        "# 點與輪廓的關係(在內部，在上面，在外面)"
      ]
    },
    {
      "cell_type": "code",
      "metadata": {
        "id": "a3Dk7NaoeP82",
        "colab_type": "code",
        "colab": {}
      },
      "source": [
        "o = cv2.imread('cs.bmp')\n",
        "cv2_imshow(o)\n",
        "#----------------取得Convex|Hull------------------------ \n",
        "gray = cv2.cvtColor(o,cv2.COLOR_BGR2GRAY)  \n",
        "ret, binary = cv2.threshold(gray,127,255,cv2.THRESH_BINARY)  \n",
        "contours, hierarchy = cv2.findContours(binary,\n",
        "                                             cv2.RETR_LIST,\n",
        "                                             cv2.CHAIN_APPROX_SIMPLE)  \n",
        "hull = cv2.convexHull(contours[0])\n",
        "image = cv2.cvtColor(binary, cv2.COLOR_GRAY2BGR)\n",
        "cv2.polylines(image, [hull], True, (0, 255, 0), 2)\n",
        "#----------------內部點A與輪廓的關係-------------------------\n",
        "distA = cv2.pointPolygonTest(hull, (300, 150),False)  \n",
        "font=cv2.FONT_HERSHEY_SIMPLEX\n",
        "cv2.putText(image,'A',(300,150), font, 1,(0,255,0),3)\n",
        "print(\"distA=\",distA) \n",
        "#----------------外部點B與輪廓的關係-------------------------\n",
        "distB = cv2.pointPolygonTest(hull, (300, 250), False)  \n",
        "font=cv2.FONT_HERSHEY_SIMPLEX\n",
        "cv2.putText(image,'B',(300,250), font, 1,(0,255,0),3)\n",
        "print(\"distB=\",distB) \n",
        "#----------------邊緣線上的點C與輪廓的關係----------------------\n",
        "distC = cv2.pointPolygonTest(hull, (423, 112),False)  \n",
        "font=cv2.FONT_HERSHEY_SIMPLEX\n",
        "cv2.putText(image,'C',(423,112), font, 1,(0,255,0),3)\n",
        "print(\"distC=\",distC) \n",
        "#print(hull)   #測試邊緣到底在哪裡，然後再使用確定位置的點繪製文字\n",
        "#----------------顯示-------------------------\n",
        "cv2_imshow(image)\n"
      ],
      "execution_count": null,
      "outputs": []
    },
    {
      "cell_type": "markdown",
      "metadata": {
        "id": "Sqa5QujxfPFn",
        "colab_type": "text"
      },
      "source": [
        "# 利用shape來比較輪廓"
      ]
    },
    {
      "cell_type": "code",
      "metadata": {
        "id": "-qpHiOaOfVgJ",
        "colab_type": "code",
        "colab": {}
      },
      "source": [
        "o1 = cv2.imread('cs.bmp')\n",
        "cv2_imshow(o1)\n",
        "gray1 = cv2.cvtColor(o1,cv2.COLOR_BGR2GRAY) \n",
        "ret, binary1 = cv2.threshold(gray1,127,255,cv2.THRESH_BINARY) \n",
        "contours1, hierarchy = cv2.findContours(binary1,\n",
        "                                              cv2.RETR_LIST,\n",
        "                                              cv2.CHAIN_APPROX_SIMPLE) \n",
        "cnt1 = contours1[0]\n",
        "#-----------原始影像o2的邊緣--------------------\n",
        "o2 = cv2.imread('cs3.bmp') \n",
        "cv2_imshow(o2) \n",
        "gray2 = cv2.cvtColor(o2,cv2.COLOR_BGR2GRAY) \n",
        "ret, binary2 = cv2.threshold(gray2,127,255,cv2.THRESH_BINARY) \n",
        "contours2, hierarchy = cv2.findContours(binary2,\n",
        "                                              cv2.RETR_LIST,\n",
        "                                              cv2.CHAIN_APPROX_SIMPLE)  \n",
        "cnt2 = contours2[0]\n",
        "#-----------原始影像o3的邊緣--------------------\n",
        "o3 = cv2.imread('hand.bmp') \n",
        "cv2_imshow(o3) \n",
        "gray3 = cv2.cvtColor(o3,cv2.COLOR_BGR2GRAY) \n",
        "ret, binary3 = cv2.threshold(gray3,127,255,cv2.THRESH_BINARY) \n",
        "contours3, hierarchy = cv2.findContours(binary3,\n",
        "                                              cv2.RETR_LIST,\n",
        "                                              cv2.CHAIN_APPROX_SIMPLE)  \n",
        "cnt3 = contours3[0]\n",
        "#-----------建置距離分析運算元--------------------\n",
        "sd = cv2.createShapeContextDistanceExtractor()\n",
        "#-----------計算距離--------------------\n",
        "d1 = sd.computeDistance(cnt1,cnt1)\n",
        "print(\"與本身的距離d1=\", d1)\n",
        "d2 = sd.computeDistance(cnt1,cnt2)\n",
        "print(\"與旋轉縮放後的本身影像的距離d2=\", d2)\n",
        "d3 = sd.computeDistance(cnt1,cnt3)\n",
        "print(\"與不相似物件的距離d3=\", d3)\n",
        "#-----------顯示距離--------------------\n"
      ],
      "execution_count": null,
      "outputs": []
    },
    {
      "cell_type": "markdown",
      "metadata": {
        "id": "-Z1a-fFAf2R9",
        "colab_type": "text"
      },
      "source": [
        "# Hausdorff距離比較輪廓"
      ]
    },
    {
      "cell_type": "code",
      "metadata": {
        "id": "1qwdhjZ8f-Nw",
        "colab_type": "code",
        "colab": {}
      },
      "source": [
        "#-----------讀取原始影像--------------------\n",
        "o1 = cv2.imread('cs.bmp')\n",
        "o2 = cv2.imread('cs3.bmp') \n",
        "o3 = cv2.imread('hand.bmp') \n",
        "cv2_imshow(o1)\n",
        "cv2_imshow(o2) \n",
        "cv2_imshow(o3) \n",
        "#-----------色彩轉換--------------------\n",
        "gray1 = cv2.cvtColor(o1,cv2.COLOR_BGR2GRAY) \n",
        "gray2 = cv2.cvtColor(o2,cv2.COLOR_BGR2GRAY) \n",
        "gray3 = cv2.cvtColor(o3,cv2.COLOR_BGR2GRAY) \n",
        "#-----------設定值處理--------------------\n",
        "ret, binary1 = cv2.threshold(gray1,127,255,cv2.THRESH_BINARY) \n",
        "ret, binary2 = cv2.threshold(gray2,127,255,cv2.THRESH_BINARY) \n",
        "ret, binary3 = cv2.threshold(gray3,127,255,cv2.THRESH_BINARY) \n",
        "#-----------分析輪廓--------------------\n",
        "contours1, hierarchy = cv2.findContours(binary1,\n",
        "                                              cv2.RETR_LIST,\n",
        "                                              cv2.CHAIN_APPROX_SIMPLE)  \n",
        "contours2, hierarchy = cv2.findContours(binary2,\n",
        "                                              cv2.RETR_LIST,\n",
        "                                              cv2.CHAIN_APPROX_SIMPLE)  \n",
        "contours3, hierarchy = cv2.findContours(binary3,\n",
        "                                              cv2.RETR_LIST,\n",
        "                                              cv2.CHAIN_APPROX_SIMPLE)  \n",
        "cnt1 = contours1[0]\n",
        "cnt2 = contours2[0]\n",
        "cnt3 = contours3[0]\n",
        "#-----------建置距離分析運算元--------------------\n",
        "hd = cv2.createHausdorffDistanceExtractor()\n",
        "#-----------計算距離--------------------\n",
        "d1 = hd.computeDistance(cnt1,cnt1)\n",
        "print(\"與本身影像的Hausdorff距離d1=\", d1)\n",
        "d2 = hd.computeDistance(cnt1,cnt2)\n",
        "print(\"與旋轉縮放後的本身影像的Hausdorff距離d2=\", d2)\n",
        "d3 = hd.computeDistance(cnt1,cnt3)\n",
        "print(\"與不相似物件的Hausdorff距離d3=\", d3)\n",
        "#-----------顯示距離--------------------\n"
      ],
      "execution_count": null,
      "outputs": []
    },
    {
      "cell_type": "markdown",
      "metadata": {
        "id": "yg6-7XQakZg6",
        "colab_type": "text"
      },
      "source": [
        "# 長寬比"
      ]
    },
    {
      "cell_type": "code",
      "metadata": {
        "id": "NkCSVnNckbQL",
        "colab_type": "code",
        "colab": {}
      },
      "source": [
        "o = cv2.imread('cc.bmp')  \n",
        "cv2_imshow(o)\n",
        "gray = cv2.cvtColor(o,cv2.COLOR_BGR2GRAY)  \n",
        "ret, binary = cv2.threshold(gray,127,255,cv2.THRESH_BINARY)  \n",
        "contours, hierarchy = cv2.findContours(binary,\n",
        "                                             cv2.RETR_LIST,\n",
        "                                             cv2.CHAIN_APPROX_SIMPLE)  \n",
        "x,y,w,h = cv2.boundingRect(contours[0])\n",
        "cv2.rectangle(o,(x,y),(x+w,y+h),(255,255,255),3)\n",
        "aspectRatio = float(w)/h\n",
        "print(aspectRatio)\n",
        "cv2_imshow(o)\n"
      ],
      "execution_count": null,
      "outputs": []
    },
    {
      "cell_type": "markdown",
      "metadata": {
        "id": "P32A1c6ZkuuP",
        "colab_type": "text"
      },
      "source": [
        "# Extend"
      ]
    },
    {
      "cell_type": "code",
      "metadata": {
        "id": "Ftp9qMFSkyFo",
        "colab_type": "code",
        "colab": {}
      },
      "source": [
        "o = cv2.imread('cc.bmp')  \n",
        "cv2_imshow(o)\n",
        "gray = cv2.cvtColor(o,cv2.COLOR_BGR2GRAY)  \n",
        "ret, binary = cv2.threshold(gray,127,255,cv2.THRESH_BINARY)  \n",
        "contours, hierarchy = cv2.findContours(binary,\n",
        "                                             cv2.RETR_LIST,\n",
        "                                             cv2.CHAIN_APPROX_SIMPLE)  \n",
        "x,y,w,h = cv2.boundingRect(contours[0])\n",
        "cv2.drawContours(o,contours[0],-1,(0,0,255),3) \n",
        "cv2.rectangle(o,(x,y),(x+w,y+h),(255,0,0),3)\n",
        "rectArea=w*h\n",
        "cntArea=cv2.contourArea(contours[0])\n",
        "extend=float(cntArea)/rectArea\n",
        "print(extend)\n",
        "cv2_imshow(o)\n"
      ],
      "execution_count": null,
      "outputs": []
    },
    {
      "cell_type": "markdown",
      "metadata": {
        "id": "ZM7hMQT9lCQ0",
        "colab_type": "text"
      },
      "source": [
        "# Solidity"
      ]
    },
    {
      "cell_type": "code",
      "metadata": {
        "id": "BShIqLdUlDiF",
        "colab_type": "code",
        "colab": {}
      },
      "source": [
        "o = cv2.imread('hand.bmp')  \n",
        "cv2_imshow(o)\n",
        "gray = cv2.cvtColor(o,cv2.COLOR_BGR2GRAY)  \n",
        "ret, binary = cv2.threshold(gray,127,255,cv2.THRESH_BINARY)  \n",
        "contours, hierarchy = cv2.findContours(binary,cv2.RETR_LIST,cv2.CHAIN_APPROX_SIMPLE)  \n",
        "cv2.drawContours(o,contours[0],-1,(0,0,255),3) \n",
        "cntArea=cv2.contourArea(contours[0])\n",
        "hull = cv2.convexHull(contours[0])\n",
        "hullArea = cv2.contourArea(hull)\n",
        "cv2.polylines(o, [hull], True, (0, 255, 0), 2)\n",
        "solidity=float(cntArea)/hullArea\n",
        "print(solidity)\n",
        "cv2_imshow(o)\n"
      ],
      "execution_count": null,
      "outputs": []
    },
    {
      "cell_type": "markdown",
      "metadata": {
        "id": "fPuld2iNla15",
        "colab_type": "text"
      },
      "source": [
        "# 等效直徑(等效直徑)"
      ]
    },
    {
      "cell_type": "code",
      "metadata": {
        "id": "hK5vf5MKleN4",
        "colab_type": "code",
        "colab": {}
      },
      "source": [
        "o = cv2.imread('cc.bmp')  \n",
        "cv2_imshow(o)\n",
        "gray = cv2.cvtColor(o,cv2.COLOR_BGR2GRAY)  \n",
        "ret, binary = cv2.threshold(gray,127,255,cv2.THRESH_BINARY)  \n",
        "contours, hierarchy = cv2.findContours(binary,\n",
        "                                             cv2.RETR_LIST,\n",
        "                                             cv2.CHAIN_APPROX_SIMPLE)  \n",
        "cv2.drawContours(o,contours[0],-1,(0,0,255),3) \n",
        "cntArea=cv2.contourArea(contours[0])\n",
        "equiDiameter = np.sqrt(4*cntArea/np.pi)\n",
        "print(equiDiameter)\n",
        "cv2.circle(o,(100,100),int(equiDiameter/2),(0,0,255),3) #展示等直徑大小的圓\n",
        "cv2_imshow(o)\n"
      ],
      "execution_count": null,
      "outputs": []
    },
    {
      "cell_type": "markdown",
      "metadata": {
        "id": "rubt-_MilsOQ",
        "colab_type": "text"
      },
      "source": [
        "# 橢圓性質(方向，中心，旋轉角度，水平，垂直軸長等)"
      ]
    },
    {
      "cell_type": "code",
      "metadata": {
        "id": "pJGm5pa2lyrH",
        "colab_type": "code",
        "colab": {}
      },
      "source": [
        "o = cv2.imread('cc.bmp')\n",
        "cv2_imshow(o)  \n",
        "gray = cv2.cvtColor(o,cv2.COLOR_BGR2GRAY)  \n",
        "ret, binary = cv2.threshold(gray,127,255,cv2.THRESH_BINARY)  \n",
        "contours, hierarchy = cv2.findContours(binary,\n",
        "                                             cv2.RETR_LIST,\n",
        "                                             cv2.CHAIN_APPROX_SIMPLE)  \n",
        "ellipse = cv2.fitEllipse(contours[0])\n",
        "retval=cv2.fitEllipse(contours[0])\n",
        "print(\"單一傳回值形式：\")\n",
        "print(\"retval=\\n\",retval)\n",
        "(x,y),(MA,ma),angle = cv2.fitEllipse(contours[0])\n",
        "print(\"三個傳回值形式：\")\n",
        "print(\"(x,y)=(\",x,y,\")\")\n",
        "print(\"(MA,ma)=(\",MA,ma,\")\")\n",
        "print(\"angle=\",angle)\n",
        "cv2.ellipse(o,ellipse,(0,0,255),2)\n",
        "cv2_imshow(o)\n"
      ],
      "execution_count": null,
      "outputs": []
    },
    {
      "cell_type": "markdown",
      "metadata": {
        "id": "C_2K90SAmpRI",
        "colab_type": "text"
      },
      "source": [
        "# 使用numpy獲得輪廓的像素點位置"
      ]
    },
    {
      "cell_type": "code",
      "metadata": {
        "id": "w0Dy3p23muDd",
        "colab_type": "code",
        "colab": {}
      },
      "source": [
        "#-----------------讀取原始影像----------------------\n",
        "o = cv2.imread('cc.bmp')  \n",
        "cv2_imshow(o)\n",
        "#-----------------取得輪廓------------------------\n",
        "gray = cv2.cvtColor(o,cv2.COLOR_BGR2GRAY)  \n",
        "ret, binary = cv2.threshold(gray,127,255,cv2.THRESH_BINARY)  \n",
        "contours, hierarchy = cv2.findContours(binary,\n",
        "                                             cv2.RETR_LIST,\n",
        "                                             cv2.CHAIN_APPROX_SIMPLE)  \n",
        "cnt=contours[0]\n",
        "#-----------------繪製空心輪廓------------------------\n",
        "mask1 = np.zeros(gray.shape,np.uint8)\n",
        "cv2.drawContours(mask1,[cnt],0,255,2)\n",
        "pixelpoints1 = np.transpose(np.nonzero(mask1))\n",
        "print(\"pixelpoints1.shape=\",pixelpoints1.shape)\n",
        "print(\"pixelpoints1=\\n\",pixelpoints1)\n",
        "cv2_imshow(mask1)\n",
        "#-----------------繪製實心輪廓---------------------\n",
        "mask2 = np.zeros(gray.shape,np.uint8)\n",
        "cv2.drawContours(mask2,[cnt],0,255,-1)\n",
        "pixelpoints2 = np.transpose(np.nonzero(mask2))\n",
        "print(\"pixelpoints2.shape=\",pixelpoints2.shape)\n",
        "print(\"pixelpoints2=\\n\",pixelpoints2)\n",
        "cv2_imshow(mask2)\n"
      ],
      "execution_count": null,
      "outputs": []
    },
    {
      "cell_type": "markdown",
      "metadata": {
        "id": "WIQcYGoznMt2",
        "colab_type": "text"
      },
      "source": [
        "# 使用`cv2.findNonZero()`取得輪廓點"
      ]
    },
    {
      "cell_type": "code",
      "metadata": {
        "id": "1EQr7TWBnR7u",
        "colab_type": "code",
        "colab": {}
      },
      "source": [
        "o = cv2.imread('cc.bmp')  \n",
        "cv2_imshow(o)\n",
        "#-----------------取得輪廓------------------------\n",
        "gray = cv2.cvtColor(o,cv2.COLOR_BGR2GRAY)  \n",
        "ret, binary = cv2.threshold(gray,127,255,cv2.THRESH_BINARY)  \n",
        "contours, hierarchy = cv2.findContours(binary,\n",
        "                                             cv2.RETR_LIST,\n",
        "                                             cv2.CHAIN_APPROX_SIMPLE)  \n",
        "cnt=contours[0]\n",
        "#-----------------繪製空心輪廓------------------------\n",
        "mask1 = np.zeros(gray.shape,np.uint8)\n",
        "cv2.drawContours(mask1,[cnt],0,255,2)\n",
        "pixelpoints1 = cv2.findNonZero(mask1)\n",
        "print(\"pixelpoints1.shape=\",pixelpoints1.shape)\n",
        "print(\"pixelpoints1=\\n\",pixelpoints1)\n",
        "cv2_imshow(mask1)\n",
        "#-----------------繪製實心輪廓---------------------\n",
        "mask2 = np.zeros(gray.shape,np.uint8)\n",
        "cv2.drawContours(mask2,[cnt],0,255,-1)\n",
        "pixelpoints2 = cv2.findNonZero(mask2)\n",
        "print(\"pixelpoints2.shape=\",pixelpoints2.shape)\n",
        "print(\"pixelpoints2=\\n\",pixelpoints2)\n",
        "cv2_imshow(mask2)\n"
      ],
      "execution_count": null,
      "outputs": []
    },
    {
      "cell_type": "markdown",
      "metadata": {
        "id": "-kbsdZRdn9Br",
        "colab_type": "text"
      },
      "source": [
        "# 尋找圖形顏色極大、極小值其位置資訊"
      ]
    },
    {
      "cell_type": "code",
      "metadata": {
        "id": "Wlqs7LkvoDFx",
        "colab_type": "code",
        "colab": {}
      },
      "source": [
        "o = cv2.imread('ct.png')  \n",
        "cv2_imshow(o)\n",
        "gray = cv2.cvtColor(o,cv2.COLOR_BGR2GRAY)  \n",
        "ret, binary = cv2.threshold(gray,127,255,cv2.THRESH_BINARY)  \n",
        "contours, hierarchy = cv2.findContours(binary,\n",
        "                                             cv2.RETR_LIST,\n",
        "                                             cv2.CHAIN_APPROX_SIMPLE)  \n",
        "cnt=contours[2]   #coutours[0]、coutours[1]是左側字母R\n",
        "#--------使用遮罩取得有興趣區域的最值-----------------\n",
        "#需要注意函數minMaxLoc處理的物件為灰階影像，本例中處理的物件為灰階影像gray\n",
        "#如果希望取得彩色影像的最值，需要分析各個通道影像，為每個通道獨立計算最值\n",
        "mask = np.zeros(gray.shape,np.uint8)\n",
        "mask=cv2.drawContours(mask,[cnt],-1,255,-1)   \n",
        "minVal, maxVal, minLoc, maxLoc = cv2.minMaxLoc(gray,mask = mask)\n",
        "print(\"minVal=\",minVal)\n",
        "print(\"maxVal=\",maxVal)\n",
        "print(\"minLoc=\",minLoc)\n",
        "print(\"maxLoc=\",maxLoc)\n",
        "#--------使用遮罩取得有興趣區域並顯示-----------------\n",
        "masko = np.zeros(o.shape,np.uint8)\n",
        "masko=cv2.drawContours(masko,[cnt],-1,(255,255,255),-1)\n",
        "loc=cv2.bitwise_and(o,masko) \n",
        "cv2_imshow(loc)"
      ],
      "execution_count": null,
      "outputs": []
    },
    {
      "cell_type": "markdown",
      "metadata": {
        "id": "OHPJCMMHozZw",
        "colab_type": "text"
      },
      "source": [
        "# 平均顏色或灰度(灰階)"
      ]
    },
    {
      "cell_type": "code",
      "metadata": {
        "id": "UHGxjrcko1RA",
        "colab_type": "code",
        "colab": {}
      },
      "source": [
        "#--------讀取並顯示原始影像-----------------\n",
        "o = cv2.imread('ct.png')  \n",
        "cv2_imshow(o)\n",
        "#--------取得輪廓-----------------\n",
        "gray = cv2.cvtColor(o,cv2.COLOR_BGR2GRAY)  \n",
        "ret, binary = cv2.threshold(gray,127,255,cv2.THRESH_BINARY)  \n",
        "contours, hierarchy = cv2.findContours(binary,\n",
        "                                             cv2.RETR_LIST,\n",
        "                                             cv2.CHAIN_APPROX_SIMPLE)  \n",
        "cnt=contours[2] #coutours[0]、coutours[1]是左側字母R\n",
        "#--------使用遮罩取得有興趣區域的平均值----------------- \n",
        "mask = np.zeros(gray.shape,np.uint8) #建置mean所使用的遮罩（必須是單通道的）\n",
        "cv2.drawContours(mask,[cnt],0,(255,255,255),-1)\n",
        "meanVal = cv2.mean(o,mask = mask)  # mask是一個區域，所以必須是單通道的\n",
        "print(\"meanVal=\\n\",meanVal)\n",
        "#--------使用遮罩取得有興趣區域並顯示-----------------\n",
        "masko = np.zeros(o.shape,np.uint8)\n",
        "cv2.drawContours(masko,[cnt],-1,(255,255,255),-1)\n",
        "loc=cv2.bitwise_and(o,masko)\n",
        "cv2_imshow(loc)\n"
      ],
      "execution_count": null,
      "outputs": []
    },
    {
      "cell_type": "markdown",
      "metadata": {
        "id": "aqZpt_VPpIqa",
        "colab_type": "text"
      },
      "source": [
        "# 輪廓的端點"
      ]
    },
    {
      "cell_type": "code",
      "metadata": {
        "id": "6w7kjEv5pLP7",
        "colab_type": "code",
        "colab": {}
      },
      "source": [
        "o = cv2.imread('cs.bmp')  \n",
        "#--------取得並繪製輪廓-----------------\n",
        "gray = cv2.cvtColor(o,cv2.COLOR_BGR2GRAY)  \n",
        "ret, binary = cv2.threshold(gray,127,255,cv2.THRESH_BINARY)  \n",
        "contours, hierarchy = cv2.findContours(binary,cv2.RETR_LIST,cv2.CHAIN_APPROX_SIMPLE)  \n",
        "mask = np.zeros(gray.shape,np.uint8)\n",
        "cnt=contours[0] \n",
        "cv2.drawContours(mask,[cnt],0,255,-1)\n",
        "#--------計算極值----------------- \n",
        "leftmost = tuple(cnt[cnt[:,:,0].argmin()][0])\n",
        "rightmost = tuple(cnt[cnt[:,:,0].argmax()][0])\n",
        "topmost = tuple(cnt[cnt[:,:,1].argmin()][0])\n",
        "bottommost = tuple(cnt[cnt[:,:,1].argmax()][0])\n",
        "#--------列印極值----------------- \n",
        "print(\"leftmost=\",leftmost)\n",
        "print(\"rightmost=\",rightmost)\n",
        "print(\"topmost=\",topmost)\n",
        "print(\"bottommost=\",bottommost)\n",
        "#--------繪製說明文字----------------- \n",
        "font=cv2.FONT_HERSHEY_SIMPLEX\n",
        "cv2.putText(o,'A',leftmost, font, 1,(0,0,255),2)\n",
        "cv2.putText(o,'B',rightmost, font, 1,(0,0,255),2)\n",
        "cv2.putText(o,'C',topmost, font, 1,(0,0,255),2)\n",
        "cv2.putText(o,'D',bottommost, font, 1,(0,0,255),2)\n",
        "#--------繪製影像----------------- \n",
        "cv2_imshow(o)\n"
      ],
      "execution_count": null,
      "outputs": []
    }
  ]
}