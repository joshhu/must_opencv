{
 "cells": [
  {
   "cell_type": "markdown",
   "metadata": {
    "colab_type": "text",
    "id": "kPEBjB34lON-"
   },
   "source": [
    "# Bitwise And\n",
    "\n",
    "需要上傳`lena.bmp`灰階圖"
   ]
  },
  {
   "cell_type": "code",
   "execution_count": null,
   "metadata": {
    "colab": {},
    "colab_type": "code",
    "id": "LLmM7Gb9hxly"
   },
   "outputs": [],
   "source": [
    "!pip install opencv-contrib-python -U"
   ]
  },
  {
   "cell_type": "code",
   "execution_count": null,
   "metadata": {
    "colab": {
     "base_uri": "https://localhost:8080/",
     "height": 34
    },
    "colab_type": "code",
    "id": "dPSpwGvmdgt2",
    "outputId": "2bfeec4c-0b59-4574-e331-921b2788269d"
   },
   "outputs": [],
   "source": [
    "from google.colab.patches import cv2_imshow\n",
    "import cv2\n",
    "import numpy as np\n",
    "from matplotlib import pyplot as plt\n",
    "\n",
    "print(cv2.__version__)"
   ]
  },
  {
   "cell_type": "markdown",
   "metadata": {
    "colab_type": "text",
    "id": "he7Am_Q-dble"
   },
   "source": [
    "# 矩陣位元相加"
   ]
  },
  {
   "cell_type": "code",
   "execution_count": null,
   "metadata": {
    "colab": {
     "base_uri": "https://localhost:8080/",
     "height": 321
    },
    "colab_type": "code",
    "id": "W77JCpUCjv-y",
    "outputId": "945aac9b-9118-4fa5-ecd6-e17a1b86b5a2"
   },
   "outputs": [],
   "source": [
    "a=np.random.randint(0,255,(5,5),dtype=np.uint8)\n",
    "b=np.zeros((5,5),dtype=np.uint8)\n",
    "b[0:3,0:3]=255\n",
    "b[4,4]=255\n",
    "c=cv2.bitwise_and(a,b)\n",
    "print(\"a=\\n\",a)\n",
    "print(\"b=\\n\",b)\n",
    "print(\"c=\\n\",c)\n"
   ]
  },
  {
   "cell_type": "markdown",
   "metadata": {
    "colab_type": "text",
    "id": "A2_7VXNNd1GB"
   },
   "source": [
    "# 圖片位元相加"
   ]
  },
  {
   "cell_type": "code",
   "execution_count": null,
   "metadata": {
    "colab": {
     "base_uri": "https://localhost:8080/",
     "height": 785
    },
    "colab_type": "code",
    "id": "FSGIsfTHkkMI",
    "outputId": "bc82ac4f-fd87-47f5-efcd-e9b4e405f49f"
   },
   "outputs": [],
   "source": [
    "a = cv2.imread(\"lena.bmp\",0)\n",
    "b = np.zeros(a.shape,dtype=np.uint8)\n",
    "b[100:400,200:400] = 255\n",
    "b[100:500,100:200] = 255\n",
    "c = cv2.bitwise_and(a,b)\n",
    "\n",
    "cv2_imshow(a)\n",
    "cv2_imshow(b)\n",
    "cv2_imshow(c)\n"
   ]
  },
  {
   "cell_type": "markdown",
   "metadata": {
    "colab_type": "text",
    "id": "Uqc4SPpEpF5V"
   },
   "source": [
    "# 位平面分解"
   ]
  },
  {
   "cell_type": "code",
   "execution_count": null,
   "metadata": {
    "colab": {
     "base_uri": "https://localhost:8080/",
     "height": 1000
    },
    "colab_type": "code",
    "id": "tMyFAdSxpIEz",
    "outputId": "3faa0244-796e-4c94-ef74-79128acf3e51"
   },
   "outputs": [],
   "source": [
    "lena=cv2.imread(\"lena.bmp\",0)\n",
    "cv2_imshow(lena)\n",
    "r,c=lena.shape\n",
    "x=np.zeros((r,c,8),dtype=np.uint8)\n",
    "for i in range(8):\n",
    "    x[:,:,i]=2**i\n",
    "r=np.zeros((r,c,8),dtype=np.uint8)\n",
    "for i in range(8):\n",
    "    r[:,:,i]=cv2.bitwise_and(lena,x[:,:,i])\n",
    "    mask=r[:,:,i]>0\n",
    "    r[mask]=255\n",
    "    cv2_imshow(r[:,:,i])\n"
   ]
  },
  {
   "cell_type": "markdown",
   "metadata": {
    "colab_type": "text",
    "id": "BPfnmB-4pZ9o"
   },
   "source": [
    "# 影像加密及解密"
   ]
  },
  {
   "cell_type": "code",
   "execution_count": null,
   "metadata": {
    "colab": {
     "base_uri": "https://localhost:8080/",
     "height": 1000
    },
    "colab_type": "code",
    "id": "9KxdQExipeLA",
    "outputId": "2c77b7e3-6ffb-49d9-d31c-b07ac326a460"
   },
   "outputs": [],
   "source": [
    "lena=cv2.imread(\"lena.bmp\",0)\n",
    "r,c=lena.shape\n",
    "key=np.random.randint(0,256,size=[r,c],dtype=np.uint8)\n",
    "encryption=cv2.bitwise_xor(lena,key)\n",
    "decryption=cv2.bitwise_xor(encryption,key)\n",
    "cv2_imshow(lena)\n",
    "cv2_imshow(key)\n",
    "cv2_imshow(encryption)\n",
    "cv2_imshow(decryption)\n"
   ]
  }
 ],
 "metadata": {
  "colab": {
   "collapsed_sections": [],
   "name": "(opencv_cht)Bitwise_Operations.ipynb",
   "provenance": []
  },
  "kernelspec": {
   "display_name": "Python 3",
   "language": "python",
   "name": "python3"
  },
  "language_info": {
   "codemirror_mode": {
    "name": "ipython",
    "version": 3
   },
   "file_extension": ".py",
   "mimetype": "text/x-python",
   "name": "python",
   "nbconvert_exporter": "python",
   "pygments_lexer": "ipython3",
   "version": "3.6.10"
  }
 },
 "nbformat": 4,
 "nbformat_minor": 4
}
